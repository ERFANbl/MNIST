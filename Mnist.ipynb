{
 "cells": [
  {
   "cell_type": "code",
   "execution_count": 55,
   "id": "9d28ed5e",
   "metadata": {},
   "outputs": [],
   "source": [
    "import torch\n",
    "import torch.nn as nn\n",
    "from torch.utils.data import Dataset, DataLoader, random_split\n",
    "from torchvision  import datasets, transforms\n",
    "from tqdm import tqdm\n",
    "import torch.nn.functional as F\n",
    "import torch.optim as optim \n",
    "from torchmetrics.classification  import MulticlassAccuracy, MulticlassF1Score, ConfusionMatrix"
   ]
  },
  {
   "cell_type": "code",
   "execution_count": 3,
   "id": "b047bff9",
   "metadata": {},
   "outputs": [],
   "source": [
    "transforms =  transforms.Compose([\n",
    "    transforms.ToTensor() ,\n",
    "    transforms.Normalize((0.5, ), (0.5, ))\n",
    "])"
   ]
  },
  {
   "cell_type": "code",
   "execution_count": 4,
   "id": "e2a9e8e0",
   "metadata": {},
   "outputs": [
    {
     "name": "stdout",
     "output_type": "stream",
     "text": [
      "Downloading http://yann.lecun.com/exdb/mnist/train-images-idx3-ubyte.gz\n",
      "Failed to download (trying next):\n",
      "HTTP Error 404: Not Found\n",
      "\n",
      "Downloading https://ossci-datasets.s3.amazonaws.com/mnist/train-images-idx3-ubyte.gz\n",
      "Downloading https://ossci-datasets.s3.amazonaws.com/mnist/train-images-idx3-ubyte.gz to ./data\\MNIST\\raw\\train-images-idx3-ubyte.gz\n"
     ]
    },
    {
     "name": "stderr",
     "output_type": "stream",
     "text": [
      "100%|██████████| 9912422/9912422 [00:18<00:00, 547120.50it/s] \n"
     ]
    },
    {
     "name": "stdout",
     "output_type": "stream",
     "text": [
      "Extracting ./data\\MNIST\\raw\\train-images-idx3-ubyte.gz to ./data\\MNIST\\raw\n",
      "\n",
      "Downloading http://yann.lecun.com/exdb/mnist/train-labels-idx1-ubyte.gz\n",
      "Failed to download (trying next):\n",
      "HTTP Error 404: Not Found\n",
      "\n",
      "Downloading https://ossci-datasets.s3.amazonaws.com/mnist/train-labels-idx1-ubyte.gz\n",
      "Downloading https://ossci-datasets.s3.amazonaws.com/mnist/train-labels-idx1-ubyte.gz to ./data\\MNIST\\raw\\train-labels-idx1-ubyte.gz\n"
     ]
    },
    {
     "name": "stderr",
     "output_type": "stream",
     "text": [
      "100%|██████████| 28881/28881 [00:00<00:00, 328213.41it/s]\n"
     ]
    },
    {
     "name": "stdout",
     "output_type": "stream",
     "text": [
      "Extracting ./data\\MNIST\\raw\\train-labels-idx1-ubyte.gz to ./data\\MNIST\\raw\n",
      "\n",
      "Downloading http://yann.lecun.com/exdb/mnist/t10k-images-idx3-ubyte.gz\n",
      "Failed to download (trying next):\n",
      "HTTP Error 404: Not Found\n",
      "\n",
      "Downloading https://ossci-datasets.s3.amazonaws.com/mnist/t10k-images-idx3-ubyte.gz\n",
      "Downloading https://ossci-datasets.s3.amazonaws.com/mnist/t10k-images-idx3-ubyte.gz to ./data\\MNIST\\raw\\t10k-images-idx3-ubyte.gz\n"
     ]
    },
    {
     "name": "stderr",
     "output_type": "stream",
     "text": [
      "100%|██████████| 1648877/1648877 [00:03<00:00, 425157.62it/s] \n"
     ]
    },
    {
     "name": "stdout",
     "output_type": "stream",
     "text": [
      "Extracting ./data\\MNIST\\raw\\t10k-images-idx3-ubyte.gz to ./data\\MNIST\\raw\n",
      "\n",
      "Downloading http://yann.lecun.com/exdb/mnist/t10k-labels-idx1-ubyte.gz\n",
      "Failed to download (trying next):\n",
      "HTTP Error 404: Not Found\n",
      "\n",
      "Downloading https://ossci-datasets.s3.amazonaws.com/mnist/t10k-labels-idx1-ubyte.gz\n",
      "Downloading https://ossci-datasets.s3.amazonaws.com/mnist/t10k-labels-idx1-ubyte.gz to ./data\\MNIST\\raw\\t10k-labels-idx1-ubyte.gz\n"
     ]
    },
    {
     "name": "stderr",
     "output_type": "stream",
     "text": [
      "100%|██████████| 4542/4542 [00:00<00:00, 907297.65it/s]"
     ]
    },
    {
     "name": "stdout",
     "output_type": "stream",
     "text": [
      "Extracting ./data\\MNIST\\raw\\t10k-labels-idx1-ubyte.gz to ./data\\MNIST\\raw\n",
      "\n"
     ]
    },
    {
     "name": "stderr",
     "output_type": "stream",
     "text": [
      "\n"
     ]
    }
   ],
   "source": [
    "train_dataset = datasets.MNIST('./data', train=True, download=True, transform=transforms)\n",
    "test_dataset = datasets.MNIST('./data', train=False, download=True, transform=transforms)"
   ]
  },
  {
   "cell_type": "code",
   "execution_count": 7,
   "id": "c6520674",
   "metadata": {},
   "outputs": [
    {
     "data": {
      "text/plain": [
       "10000"
      ]
     },
     "execution_count": 7,
     "metadata": {},
     "output_type": "execute_result"
    }
   ],
   "source": [
    "len(test_dataset)"
   ]
  },
  {
   "cell_type": "code",
   "execution_count": 8,
   "id": "5f2db046",
   "metadata": {},
   "outputs": [],
   "source": [
    "test_dataset, val_dataset = random_split(test_dataset,[7000, 3000])"
   ]
  },
  {
   "cell_type": "code",
   "execution_count": 9,
   "id": "847beca2",
   "metadata": {},
   "outputs": [
    {
     "data": {
      "text/plain": [
       "7000"
      ]
     },
     "execution_count": 9,
     "metadata": {},
     "output_type": "execute_result"
    }
   ],
   "source": [
    "len(test_dataset)"
   ]
  },
  {
   "cell_type": "code",
   "execution_count": 40,
   "id": "3899214e",
   "metadata": {},
   "outputs": [],
   "source": [
    "train = DataLoader(train_dataset, batch_size=64, shuffle=True)\n",
    "test = DataLoader(test_dataset)\n",
    "val = DataLoader(val_dataset,batch_size=500)"
   ]
  },
  {
   "cell_type": "code",
   "execution_count": 72,
   "id": "b191a4e2",
   "metadata": {},
   "outputs": [],
   "source": [
    "class MNISTClassifier(nn.Module):\n",
    "    def __init__(self):\n",
    "        super().__init__()\n",
    "        self.conv1 = nn.Conv2d(in_channels=1, out_channels=32, kernel_size=3, padding=1)\n",
    "        self.conv2 = nn.Conv2d(in_channels=32, out_channels=64, kernel_size=3, padding=1)\n",
    "        self.pool = nn.MaxPool2d(kernel_size=2, stride=2)\n",
    "\n",
    "        self.fc1 = nn.Linear(64 * 7 * 7, 128) \n",
    "        self.fc2 = nn.Linear(128, 10)\n",
    "\n",
    "        self.dropout = nn.Dropout(0.25)\n",
    "\n",
    "\n",
    "    def forward(self, x):\n",
    "        x = self.pool(F.relu(self.conv1(x))) \n",
    "        x = self.pool(F.relu(self.conv2(x))) \n",
    "        x = torch.flatten(x,start_dim=1)\n",
    "        x = self.dropout(F.relu(self.fc1(x)))\n",
    "        x = self.fc2(x)\n",
    "        x = F.log_softmax(x,dim=1)\n",
    "        return x\n"
   ]
  },
  {
   "cell_type": "code",
   "execution_count": 73,
   "id": "83131a2e",
   "metadata": {},
   "outputs": [],
   "source": [
    "device = torch.device(\"cuda\" if torch.cuda.is_available() else \"cpu\")\n",
    "model = MNISTClassifier().to(device=device)\n",
    "lossf = nn.CrossEntropyLoss()\n",
    "optimizer = optim.AdamW(model.parameters())"
   ]
  },
  {
   "cell_type": "code",
   "execution_count": 74,
   "id": "a190fa33",
   "metadata": {},
   "outputs": [
    {
     "name": "stdout",
     "output_type": "stream",
     "text": [
      "val_loss: 0.04092443889627854 | train_loss (epoch_final):0.17119903470288272 | val_accurucy: 0.9851438403129578 | val_F1: 0.9849947690963745\n",
      "val_loss: 0.033690345784028373 | train_loss (epoch_final):0.054415722042004434 | val_accurucy: 0.987226665019989 | val_F1: 0.9872453212738037\n",
      "val_loss: 0.025633735892673332 | train_loss (epoch_final):0.04026357588151704 | val_accurucy: 0.9917634725570679 | val_F1: 0.991645097732544\n",
      "val_loss: 0.02233741121987502 | train_loss (epoch_final):0.03219087193916137 | val_accurucy: 0.9925059676170349 | val_F1: 0.9922890663146973\n",
      "val_loss: 0.020929685793817043 | train_loss (epoch_final):0.02642161092082193 | val_accurucy: 0.992770254611969 | val_F1: 0.9926233291625977\n",
      "val_loss: 0.028657194847861927 | train_loss (epoch_final):0.02109950864396989 | val_accurucy: 0.9914273023605347 | val_F1: 0.991240382194519\n",
      "val_loss: 0.02497281413525343 | train_loss (epoch_final):0.018872945598827066 | val_accurucy: 0.990795910358429 | val_F1: 0.9905503988265991\n",
      "val_loss: 0.01565047012021144 | train_loss (epoch_final):0.01697430756571802 | val_accurucy: 0.9953983426094055 | val_F1: 0.9952996373176575\n",
      "val_loss: 0.021328207415839035 | train_loss (epoch_final):0.014251276068441853 | val_accurucy: 0.9934113025665283 | val_F1: 0.9932500123977661\n",
      "val_loss: 0.023972400929778814 | train_loss (epoch_final):0.013541956849724562 | val_accurucy: 0.9935818910598755 | val_F1: 0.9935339093208313\n"
     ]
    }
   ],
   "source": [
    "for epoch in range(10):\n",
    "    train_loss = 0\n",
    "    model.train()\n",
    "    for i, data in enumerate(train):\n",
    "        image, label = data\n",
    "        image, label = image.to(device), label.to(device)\n",
    "\n",
    "        optimizer.zero_grad()\n",
    "        model.train()\n",
    "\n",
    "        preds = model(image)\n",
    "        loss = lossf(preds,label)\n",
    "        loss.backward()\n",
    "        optimizer.step()\n",
    "\n",
    "        train_loss += loss.item()\n",
    "        # if i % 10 == 0 and i!=0:\n",
    "        #    model.eval()\n",
    "        #    with torch.no_grad():\n",
    "        #        val_loss=0\n",
    "        #        F1 = MulticlassF1Score(num_classes=10, average='macro').to(device)\n",
    "        #        Accurucy = MulticlassAccuracy(num_classes=10, average='macro').to(device)\n",
    "        #        for images , labels in val:\n",
    "        #             images, labels = images.to(device), labels.to(device)\n",
    "        #             val_pred = model(images)\n",
    "        #             loss = lossf(val_pred, labels)\n",
    "        #             val_loss+=loss.item()\n",
    "\n",
    "        #             F1.update(preds=val_pred, target=labels)\n",
    "        #             Accurucy.update(preds=val_pred, target=labels)\n",
    "        #        print(f\"val_loss: {val_loss/6} | train_loss (batch : {i}):{train_loss/i} | val_accurucy: {Accurucy.compute()} | val_F1: {F1.compute()}\")\n",
    "    model.eval()\n",
    "    with torch.no_grad():\n",
    "        val_loss=0\n",
    "        F1 = MulticlassF1Score(num_classes=10, average='macro').to(device)\n",
    "        Accurucy = MulticlassAccuracy(num_classes=10, average='macro').to(device)\n",
    "        for images , labels in val:\n",
    "            images, labels = images.to(device), labels.to(device)\n",
    "            val_pred = model(images)\n",
    "            loss = lossf(val_pred, labels)\n",
    "            val_loss+=loss.item()\n",
    "            F1.update(preds=val_pred, target=labels)\n",
    "            Accurucy.update(preds=val_pred, target=labels)\n",
    "        print(f\"val_loss: {val_loss/6} | train_loss (epoch_final):{train_loss/len(train)} | val_accurucy: {Accurucy.compute()} | val_F1: {F1.compute()}\")"
   ]
  },
  {
   "cell_type": "code",
   "execution_count": 75,
   "id": "951259f0",
   "metadata": {},
   "outputs": [
    {
     "name": "stdout",
     "output_type": "stream",
     "text": [
      "test -> accurucy: 0.9929 | F1: 0.9929\n"
     ]
    }
   ],
   "source": [
    "with torch.no_grad():\n",
    "    F1_test= MulticlassF1Score(num_classes=10, average='macro').to(device)\n",
    "    Accurucy_test = MulticlassAccuracy(num_classes=10, average='macro').to(device)\n",
    "    cf = ConfusionMatrix(task = 'multiclass',num_classes=10).to(device)\n",
    "    model.eval()\n",
    "    for images , labels in test:\n",
    "        images, labels = images.to(device), labels.to(device)\n",
    "        test_preds = model(images)\n",
    "        F1_test.update(preds=test_preds, target=labels)\n",
    "        Accurucy_test.update(preds=test_preds, target=labels)\n",
    "        cf.update(test_preds,labels)\n",
    "    \n",
    "    print(f\"test -> accurucy: {Accurucy_test.compute():.4f} | F1: {F1_test.compute():.4f}\")\n"
   ]
  },
  {
   "cell_type": "code",
   "execution_count": 79,
   "id": "16c0e02d",
   "metadata": {},
   "outputs": [
    {
     "data": {
      "text/plain": [
       "<Axes: >"
      ]
     },
     "execution_count": 79,
     "metadata": {},
     "output_type": "execute_result"
    },
    {
     "data": {
      "image/png": "[encoded data removed]",
      "text/plain": [
       "<Figure size 1200x700 with 2 Axes>"
      ]
     },
     "metadata": {},
     "output_type": "display_data"
    }
   ],
   "source": [
    "import seaborn as sns\n",
    "import matplotlib.pyplot as plt\n",
    "\n",
    "plt.figure(figsize=(12, 7))\n",
    "sns.heatmap(cf.compute().to('cpu'),\n",
    "            annot=True, \n",
    "            fmt='d', \n",
    "            cmap=sns.cubehelix_palette(as_cmap=True), \n",
    "            linewidths=0.5, \n",
    "            square=True, \n",
    "            cbar_kws={\"shrink\": 0.75})"
   ]
  },
  {
   "cell_type": "markdown",
   "id": "95579c38",
   "metadata": {},
   "source": [
    "## Result"
   ]
  },
  {
   "cell_type": "markdown",
   "id": "3395eeb4",
   "metadata": {},
   "source": [
    "| Epoch | Val Loss  | Train Loss (Final) | Val Accuracy       | Val F1 Score        |\n",
    "|-------|-----------|--------------------|--------------------|---------------------|\n",
    "| 1     | 0.0409    | 0.1712             | 0.9851             | 0.9850              |\n",
    "| 2     | 0.0337    | 0.0544             | 0.9872             | 0.9872              |\n",
    "| 3     | 0.0256    | 0.0403             | 0.9918             | 0.9916              |\n",
    "| 4     | 0.0223    | 0.0322             | 0.9925             | 0.9923              |\n",
    "| 5     | 0.0209    | 0.0264             | 0.9928             | 0.9926              |\n",
    "| 6     | 0.0287    | 0.0211             | 0.9914             | 0.9912              |\n",
    "| 7     | 0.0250    | 0.0189             | 0.9908             | 0.9906              |\n",
    "| 8     | 0.0157    | 0.0170             | 0.9954             | 0.9953              |\n",
    "| 9     | 0.0213    | 0.0143             | 0.9934             | 0.9933              |\n",
    "| 10    | 0.0240    | 0.0135             | 0.9936             | 0.9935              |\n"
   ]
  },
  {
   "cell_type": "markdown",
   "id": "0ba0c449",
   "metadata": {},
   "source": [
    "## Final result\n",
    "  - Test Accuracy: 0.9929\n",
    "  - Test F1 : 0.9929"
   ]
  }
 ],
 "metadata": {
  "kernelspec": {
   "display_name": "base",
   "language": "python",
   "name": "python3"
  },
  "language_info": {
   "codemirror_mode": {
    "name": "ipython",
    "version": 3
   },
   "file_extension": ".py",
   "mimetype": "text/x-python",
   "name": "python",
   "nbconvert_exporter": "python",
   "pygments_lexer": "ipython3",
   "version": "3.11.7"
  }
 },
 "nbformat": 4,
 "nbformat_minor": 5
}
